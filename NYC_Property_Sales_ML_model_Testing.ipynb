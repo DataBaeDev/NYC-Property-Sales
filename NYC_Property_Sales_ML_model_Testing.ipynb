{
  "nbformat": 4,
  "nbformat_minor": 0,
  "metadata": {
    "colab": {
      "provenance": [],
      "mount_file_id": "19jroCU-_uQcyTPMyJfAA-Dcru3nA9-gX",
      "authorship_tag": "ABX9TyM5Lh9HdCPAKuO2EqSNv6pf",
      "include_colab_link": true
    },
    "kernelspec": {
      "name": "python3",
      "display_name": "Python 3"
    },
    "language_info": {
      "name": "python"
    }
  },
  "cells": [
    {
      "cell_type": "markdown",
      "metadata": {
        "id": "view-in-github",
        "colab_type": "text"
      },
      "source": [
        "<a href=\"https://colab.research.google.com/github/DataBaeDev/nyc_property_sales/blob/main/NYC_Property_Sales_ML_model_Testing.ipynb\" target=\"_parent\"><img src=\"https://colab.research.google.com/assets/colab-badge.svg\" alt=\"Open In Colab\"/></a>"
      ]
    },
    {
      "cell_type": "markdown",
      "source": [
        "# Model Testing\n",
        "Import Libraries & Models"
      ],
      "metadata": {
        "id": "5GnAK37eyYhF"
      }
    },
    {
      "cell_type": "code",
      "execution_count": 1,
      "metadata": {
        "id": "a1qA7aTe55qa"
      },
      "outputs": [],
      "source": [
        "import numpy as np\n",
        "import random\n",
        "import pickle\n",
        "\n",
        "from sklearn.tree import DecisionTreeClassifier\n",
        "from sklearn.ensemble import RandomForestClassifier"
      ]
    },
    {
      "cell_type": "code",
      "source": [
        "decision_tree_model = pickle.load(open('/content/drive/MyDrive/Predictive Analytics/NYC Property Sales/NYC_DecisionTreeClassifier().pkl', 'rb'))\n",
        "random_forest_model = pickle.load(open('/content/drive/MyDrive/Predictive Analytics/NYC Property Sales/NYC_RandomForestClassifier().pkl', 'rb'))"
      ],
      "metadata": {
        "id": "hquGfLmp24jB"
      },
      "execution_count": 2,
      "outputs": []
    },
    {
      "cell_type": "markdown",
      "source": [
        "Create sample properties for testing"
      ],
      "metadata": {
        "id": "Bb13ETecyy8l"
      }
    },
    {
      "cell_type": "code",
      "source": [
        "#Two family dwelling, built in 1912,  sold for $11 million\n",
        "sample_property_1 = np.array([[11000000, 1912, False, False, True, False, False, False, False,\n",
        "        False, False, False, False, False, False, False, False, True,\n",
        "        False, False, False, False, False, False, False, False, False,\n",
        "        False, False, False, False, False, False, False, False, False,\n",
        "        False, False, False, False, False, False, False, False, False,\n",
        "        False, False, False, False, False, False, False, False, False,\n",
        "        False, False, False, False, False, False, False, False, False,\n",
        "        False, False, False, False, False, False, False, False, False,\n",
        "        False, False, False, False, False, False, False, False, False,\n",
        "        False, False, False, False, False, False, False, False, False,\n",
        "        False, False, False]])"
      ],
      "metadata": {
        "id": "gfv0HPEDuADB"
      },
      "execution_count": 3,
      "outputs": []
    },
    {
      "cell_type": "code",
      "source": [
        "#One family dwelling, built in 1910,  sold for $750k\n",
        "sample_property_2 = np.array([[750000, 1910, True, False, False, False, False, False, False,\n",
        "        False, False, False, False, False, False, False, False, True,\n",
        "        False, False, False, False, False, False, False, False, False,\n",
        "        False, False, False, False, False, False, False, False, False,\n",
        "        False, False, False, False, False, False, False, False, False,\n",
        "        False, False, False, False, False, False, False, False, False,\n",
        "        False, False, False, False, False, False, False, False, False,\n",
        "        False, False, False, False, False, False, False, False, False,\n",
        "        False, False, False, False, False, False, False, False, False,\n",
        "        False, False, False, False, False, False, False, False, False,\n",
        "        False, False, False]])"
      ],
      "metadata": {
        "id": "2NW9q2jZuZGU"
      },
      "execution_count": 4,
      "outputs": []
    },
    {
      "cell_type": "markdown",
      "source": [
        "**Decision Tree Classifier**<br>\n",
        "\n",
        "This test of the Decision Tree Classifier predicts which borough a property is in."
      ],
      "metadata": {
        "id": "GBE-p6VU0NOc"
      }
    },
    {
      "cell_type": "code",
      "source": [
        "borough_prediction = decision_tree_model.predict(sample_property_1)\n",
        "print(f\"The model predicts that sample property 1 is in the {borough_prediction[0]} borough.\")"
      ],
      "metadata": {
        "colab": {
          "base_uri": "https://localhost:8080/"
        },
        "id": "u354r8cz1KrA",
        "outputId": "1baf83db-d686-4956-cc5f-6c20f919923d"
      },
      "execution_count": 5,
      "outputs": [
        {
          "output_type": "stream",
          "name": "stdout",
          "text": [
            "The model predicts that sample property 1 is in the Manhattan borough.\n"
          ]
        },
        {
          "output_type": "stream",
          "name": "stderr",
          "text": [
            "/usr/local/lib/python3.10/dist-packages/sklearn/base.py:439: UserWarning: X does not have valid feature names, but DecisionTreeClassifier was fitted with feature names\n",
            "  warnings.warn(\n"
          ]
        }
      ]
    },
    {
      "cell_type": "code",
      "source": [
        "borough_prediction = decision_tree_model.predict(sample_property_2)\n",
        "print(f\"The model predicts that sample property 2 is in the {borough_prediction[0]} borough.\")"
      ],
      "metadata": {
        "colab": {
          "base_uri": "https://localhost:8080/"
        },
        "id": "k1snkIJ_yKW2",
        "outputId": "c3c36fad-1999-42b5-c2d4-3b75f6ae32a6"
      },
      "execution_count": 6,
      "outputs": [
        {
          "output_type": "stream",
          "name": "stdout",
          "text": [
            "The model predicts that sample property 2 is in the Queens borough.\n"
          ]
        },
        {
          "output_type": "stream",
          "name": "stderr",
          "text": [
            "/usr/local/lib/python3.10/dist-packages/sklearn/base.py:439: UserWarning: X does not have valid feature names, but DecisionTreeClassifier was fitted with feature names\n",
            "  warnings.warn(\n"
          ]
        }
      ]
    },
    {
      "cell_type": "markdown",
      "source": [
        "**Random Forest Classifier**\n",
        "\n",
        "This test of the Random Forest Classifier predicts which borough a property sits in."
      ],
      "metadata": {
        "id": "2TvpdK3J0WJy"
      }
    },
    {
      "cell_type": "code",
      "source": [
        "borough_prediction = random_forest_model.predict(sample_property_1)\n",
        "print(f\"The model predicts that sample property 1 is in the {borough_prediction[0]} borough.\")"
      ],
      "metadata": {
        "colab": {
          "base_uri": "https://localhost:8080/"
        },
        "id": "pKJbRPnSEHLd",
        "outputId": "bdb5fac8-b474-4004-fa4b-fc3d5d07a6b0"
      },
      "execution_count": 7,
      "outputs": [
        {
          "output_type": "stream",
          "name": "stdout",
          "text": [
            "The model predicts that sample property 1 is in the Manhattan borough.\n"
          ]
        },
        {
          "output_type": "stream",
          "name": "stderr",
          "text": [
            "/usr/local/lib/python3.10/dist-packages/sklearn/base.py:439: UserWarning: X does not have valid feature names, but RandomForestClassifier was fitted with feature names\n",
            "  warnings.warn(\n"
          ]
        }
      ]
    },
    {
      "cell_type": "code",
      "source": [
        "borough_prediction = random_forest_model.predict(sample_property_2)\n",
        "print(f\"The model predicts that sample property 2 is in the {borough_prediction[0]} borough.\")"
      ],
      "metadata": {
        "colab": {
          "base_uri": "https://localhost:8080/"
        },
        "id": "_aqgWw5zzkfa",
        "outputId": "9fa1c32d-947e-49ff-f6b3-923698b6a2bc"
      },
      "execution_count": 8,
      "outputs": [
        {
          "output_type": "stream",
          "name": "stdout",
          "text": [
            "The model predicts that sample property 2 is in the Queens borough.\n"
          ]
        },
        {
          "output_type": "stream",
          "name": "stderr",
          "text": [
            "/usr/local/lib/python3.10/dist-packages/sklearn/base.py:439: UserWarning: X does not have valid feature names, but RandomForestClassifier was fitted with feature names\n",
            "  warnings.warn(\n"
          ]
        }
      ]
    }
  ]
}